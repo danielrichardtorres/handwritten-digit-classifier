{
 "cells": [
  {
   "cell_type": "markdown",
   "metadata": {
    "collapsed": true
   },
   "source": [
    "# Building Handwritten Digit Classifier using Scikit-learn and Python\n",
    "#### Daniel Torres - Updated 9/18/2020\n",
    "\n",
    "#### [LinkedIn](https://www.linkedin.com/in/danielrichardtorres/) | [GitHub](https://github.com/danielrichardtorres) | [Back to Portfolio](https://danieltorres.tech)"
   ]
  },
  {
   "cell_type": "markdown",
   "metadata": {},
   "source": [
    "## Introduction\n",
    "### About\n",
    "I completed this guided project by dataquest.io during a course on machine learning. \n",
    "\n",
    "I hope to demonstrate my ability to use scikit-learn as well as surrounding tools including pandas, numpy, and matplotlib.\n",
    "\n",
    "### Goal:\n",
    "Use machine learning models to classify handwritten digits included in the scikit-learn datasets.\n",
    "\n",
    "### Approach:\n",
    "I will use python and the tools mentioned above learn to \n",
    "\n",
    "- Import the data from scikit-learn\n",
    "- Split the data into train and test sets\n",
    "- Build a KNN classifier that classifies the data\n",
    "- Build increasingly complex neural networks to classify the data\n",
    "- Compare the different models\n",
    "\n",
    "### Final Results\n",
    "\n",
    "|       Model Type      \t| Mean Accuracy \t|\n",
    "|:---------------------:\t|:-------------:\t|\n",
    "|  K Nearest Neighbors  \t|     0.9677    \t|\n",
    "|  Neural Net (1 Layer) \t|     0.9198    \t|\n",
    "| Neural Net (2 Layers) \t|     0.9523    \t|\n",
    "| Neural Net (3 Layers  \t|     0.9310    \t|\n",
    "\n",
    "\n",
    "In the end I was able to use scikit-learn to make several machine learning models that were able to classify handwritten digits with greater than 90% accuracy.\n",
    "\n",
    "The neural network models achieved accuracy within 2% of the K nearest neighbors model.\n",
    "\n",
    "\n",
    "\n",
    "##### Acknowledgements \n",
    "This project outline was provided by [dataquest.io](https://github.com/dataquestio/solutions) as a guided project."
   ]
  },
  {
   "cell_type": "markdown",
   "metadata": {},
   "source": [
    "# Importing the Data and Tools"
   ]
  },
  {
   "cell_type": "code",
   "execution_count": 1,
   "metadata": {},
   "outputs": [],
   "source": [
    "from sklearn.datasets import load_digits\n",
    "import pandas as pd\n",
    "import numpy as np\n",
    "import matplotlib.pyplot as plt\n",
    "%matplotlib inline"
   ]
  },
  {
   "cell_type": "code",
   "execution_count": 2,
   "metadata": {},
   "outputs": [
    {
     "data": {
      "text/plain": [
       "dict_keys(['data', 'target', 'target_names', 'images', 'DESCR'])"
      ]
     },
     "execution_count": 2,
     "metadata": {},
     "output_type": "execute_result"
    }
   ],
   "source": [
    "digits = load_digits()\n",
    "digits.keys()"
   ]
  },
  {
   "cell_type": "code",
   "execution_count": 3,
   "metadata": {
    "scrolled": true
   },
   "outputs": [],
   "source": [
    "features = pd.DataFrame(digits['data'])\n",
    "labels = pd.DataFrame(digits['target'])"
   ]
  },
  {
   "cell_type": "markdown",
   "metadata": {},
   "source": [
    "In the train features there are 1797 images, stored in 64 columns of data  for the 8 by 8 pixel images."
   ]
  },
  {
   "cell_type": "markdown",
   "metadata": {},
   "source": [
    "## Looking at the Data"
   ]
  },
  {
   "cell_type": "code",
   "execution_count": 4,
   "metadata": {},
   "outputs": [
    {
     "data": {
      "text/plain": [
       "<matplotlib.image.AxesImage at 0x1d2f8bb8f28>"
      ]
     },
     "execution_count": 4,
     "metadata": {},
     "output_type": "execute_result"
    },
    {
     "data": {
      "image/png": "[encoded data removed]",
      "text/plain": [
       "<Figure size 432x288 with 1 Axes>"
      ]
     },
     "metadata": {
      "needs_background": "light"
     },
     "output_type": "display_data"
    }
   ],
   "source": [
    "first_image = features.iloc[0]\n",
    "np_image = first_image.values\n",
    "np_image = np_image.reshape(8,8)\n",
    "plt.imshow(np_image, cmap='gray_r',interpolation='none') #had to add interpolation none because was blurry without"
   ]
  },
  {
   "cell_type": "code",
   "execution_count": 5,
   "metadata": {},
   "outputs": [
    {
     "data": {
      "text/plain": [
       "<matplotlib.image.AxesImage at 0x1d2f8be45c0>"
      ]
     },
     "execution_count": 5,
     "metadata": {},
     "output_type": "execute_result"
    },
    {
     "data": {
      "image/png": "[encoded data removed]",
      "text/plain": [
       "<Figure size 432x288 with 8 Axes>"
      ]
     },
     "metadata": {
      "needs_background": "light"
     },
     "output_type": "display_data"
    }
   ],
   "source": [
    "#let's take a look at a few more\n",
    "f, axarr = plt.subplots(2, 4)\n",
    "\n",
    "axarr[0, 0].imshow(features.iloc[0].values.reshape(8,8), cmap='gray_r',interpolation='none')\n",
    "axarr[0, 1].imshow(features.iloc[99].values.reshape(8,8), cmap='gray_r',interpolation='none')\n",
    "axarr[0, 2].imshow(features.iloc[199].values.reshape(8,8), cmap='gray_r',interpolation='none')\n",
    "axarr[0, 3].imshow(features.iloc[299].values.reshape(8,8), cmap='gray_r',interpolation='none')\n",
    "\n",
    "axarr[1, 0].imshow(features.iloc[999].values.reshape(8,8), cmap='gray_r',interpolation='none')\n",
    "axarr[1, 1].imshow(features.iloc[1099].values.reshape(8,8), cmap='gray_r',interpolation='none')\n",
    "axarr[1, 2].imshow(features.iloc[1199].values.reshape(8,8), cmap='gray_r',interpolation='none')\n",
    "axarr[1, 3].imshow(features.iloc[1299].values.reshape(8,8), cmap='gray_r',interpolation='none')"
   ]
  },
  {
   "cell_type": "markdown",
   "metadata": {},
   "source": [
    "# Splitting Data into Testing/Training\n",
    "\n",
    "A crucial step in any machine learning project is preparing training and testing data. This allows me to determine the effectiveness of a model. By only using the training data to prepare the model, I can then assess it's performance on the testing data. \n",
    "\n",
    "This allows me to make predictions and evaluate the error as well as determine if there's problems, like overfitting for example."
   ]
  },
  {
   "cell_type": "code",
   "execution_count": 6,
   "metadata": {},
   "outputs": [],
   "source": [
    "split_index = int(len(features)*.5)\n",
    "train_features = features[:split_index]\n",
    "train_labels = labels[:split_index]\n",
    "\n",
    "test_features = features[split_index:]\n",
    "test_labels = labels[split_index:]\n",
    "\n",
    "# knn = KNeighborsClassifier(n_neighbors = 5)\n",
    "# knn.fit(train_features, train_labels)"
   ]
  },
  {
   "cell_type": "markdown",
   "metadata": {},
   "source": [
    "# K-Nearest Neighbors Model\n",
    "\n",
    "Below I will create some functions to train a KNN classifier model, test it, and determine the accuracy."
   ]
  },
  {
   "cell_type": "code",
   "execution_count": 7,
   "metadata": {},
   "outputs": [],
   "source": [
    "from sklearn.neighbors import KNeighborsClassifier\n",
    "from sklearn.model_selection import KFold\n",
    "\n",
    "# 50% Train / test validation\n",
    "def train_knn(nneighbors, train_features, train_labels):\n",
    "    knn = KNeighborsClassifier(n_neighbors = nneighbors)\n",
    "    knn.fit(train_features, train_labels.values.ravel())\n",
    "    return knn\n",
    "\n",
    "def test(model, test_features, test_labels):\n",
    "    predictions = model.predict(test_features)\n",
    "    train_test_df = pd.DataFrame()\n",
    "    train_test_df['correct_label'] = test_labels\n",
    "    train_test_df['predicted_label'] = predictions\n",
    "    overall_accuracy = sum(train_test_df[\"predicted_label\"] == train_test_df[\"correct_label\"])/len(train_test_df)    \n",
    "    return overall_accuracy\n",
    "\n",
    "# this is not working for some reason\n",
    "def cross_validate(k):\n",
    "    fold_accuracies = []\n",
    "    kf = KFold(n_splits = 4, random_state=2)\n",
    "    for train_index, test_index in kf.split(features):\n",
    "        train_features = features.loc[train_index]\n",
    "        test_features = features.loc[test_index]\n",
    "        train_labels = labels.loc[train_index]\n",
    "        test_labels = labels.loc[test_index].values.ravel()\n",
    "        \n",
    "        model = train_knn(k, train_features, train_labels)\n",
    "        \n",
    "        overall_accuracy = test(model, test_features, test_labels)\n",
    "        \n",
    "        fold_accuracies.append(overall_accuracy)\n",
    "    \n",
    "    return fold_accuracies\n",
    "        \n",
    "knn_one_accuracies = cross_validate(1)"
   ]
  },
  {
   "cell_type": "code",
   "execution_count": 8,
   "metadata": {},
   "outputs": [
    {
     "data": {
      "text/plain": [
       "[0.9688888888888889,\n",
       " 0.9599109131403119,\n",
       " 0.9799554565701559,\n",
       " 0.9621380846325167]"
      ]
     },
     "execution_count": 8,
     "metadata": {},
     "output_type": "execute_result"
    }
   ],
   "source": [
    "knn_one_accuracies"
   ]
  },
  {
   "cell_type": "code",
   "execution_count": 9,
   "metadata": {},
   "outputs": [
    {
     "data": {
      "text/plain": [
       "[<matplotlib.lines.Line2D at 0x1d2f8c68c18>]"
      ]
     },
     "execution_count": 9,
     "metadata": {},
     "output_type": "execute_result"
    },
    {
     "data": {
      "image/png": "[encoded data removed]",
      "text/plain": [
       "<Figure size 576x288 with 1 Axes>"
      ]
     },
     "metadata": {
      "needs_background": "light"
     },
     "output_type": "display_data"
    }
   ],
   "source": [
    "#Here I try several different hyperparameter values and plot the results.\n",
    "\n",
    "k_values = list(range(1,10))\n",
    "k_overall_accuracies = []\n",
    "\n",
    "for k in k_values:\n",
    "    k_accuracies = cross_validate(k)\n",
    "    k_mean_accuracy = np.mean(k_accuracies)\n",
    "    k_overall_accuracies.append(k_mean_accuracy)\n",
    "    \n",
    "plt.figure(figsize=(8,4))\n",
    "plt.title(\"Mean Accuracy vs. k\")\n",
    "plt.plot(k_values, k_overall_accuracies)"
   ]
  },
  {
   "cell_type": "markdown",
   "metadata": {},
   "source": [
    "We can see that as the number of neighbors (a hyperparameter of this model) goes up, the accuaracy decreases."
   ]
  },
  {
   "cell_type": "markdown",
   "metadata": {},
   "source": [
    "# Neural Network Model - One Hidden Layer\n",
    "Now I will use a neural network model to try and classify the images.\n",
    "\n",
    "At first I will use only one hidden layer, and then I will compare with larger numbers of neurons."
   ]
  },
  {
   "cell_type": "code",
   "execution_count": 10,
   "metadata": {},
   "outputs": [],
   "source": [
    "from sklearn.neural_network import MLPClassifier\n",
    "from sklearn.model_selection import KFold\n",
    "from sklearn.utils.testing import ignore_warnings\n",
    "from sklearn.exceptions import ConvergenceWarning\n",
    "\n",
    "# 50% Train / test validation\n",
    "@ignore_warnings(category=ConvergenceWarning)\n",
    "def train_nn(n, train_features, train_labels):\n",
    "    nn = MLPClassifier(hidden_layer_sizes=n,activation='relu')\n",
    "    nn.fit(train_features, train_labels.values.ravel())\n",
    "    return nn\n",
    "@ignore_warnings(category=ConvergenceWarning)\n",
    "def test(model, test_features, test_labels):\n",
    "    predictions = model.predict(test_features)\n",
    "    train_test_df = pd.DataFrame()\n",
    "    train_test_df['correct_label'] = test_labels\n",
    "    train_test_df['predicted_label'] = predictions\n",
    "    overall_accuracy = sum(train_test_df[\"predicted_label\"] == train_test_df[\"correct_label\"])/len(train_test_df)    \n",
    "    return overall_accuracy\n",
    "\n",
    "@ignore_warnings(category=ConvergenceWarning)\n",
    "def cross_validate(n):\n",
    "    fold_accuracies = []\n",
    "    kf = KFold(n_splits = 4, random_state=2)\n",
    "    for train_index, test_index in kf.split(features):\n",
    "        train_features = features.loc[train_index]\n",
    "        test_features = features.loc[test_index]\n",
    "        train_labels = labels.loc[train_index]\n",
    "        test_labels = labels.loc[test_index].values.ravel()\n",
    "        \n",
    "        model = train_nn(n, train_features, train_labels)\n",
    "        \n",
    "        overall_accuracy = test(model, test_features, test_labels)\n",
    "        \n",
    "        fold_accuracies.append(overall_accuracy)\n",
    "    \n",
    "    return fold_accuracies\n",
    "\n"
   ]
  },
  {
   "cell_type": "code",
   "execution_count": 11,
   "metadata": {},
   "outputs": [
    {
     "name": "stdout",
     "output_type": "stream",
     "text": [
      "[0.09777777777777778, 0.24276169265033407, 0.18485523385300667, 0.23162583518930957]\n"
     ]
    }
   ],
   "source": [
    "nn_one_accuracies = cross_validate((1,))\n",
    "print(nn_one_accuracies)"
   ]
  },
  {
   "cell_type": "code",
   "execution_count": 12,
   "metadata": {},
   "outputs": [
    {
     "data": {
      "text/plain": [
       "[<matplotlib.lines.Line2D at 0x1d2f90fa7b8>]"
      ]
     },
     "execution_count": 12,
     "metadata": {},
     "output_type": "execute_result"
    },
    {
     "data": {
      "image/png": "[encoded data removed]",
      "text/plain": [
       "<Figure size 576x288 with 1 Axes>"
      ]
     },
     "metadata": {
      "needs_background": "light"
     },
     "output_type": "display_data"
    }
   ],
   "source": [
    "nn_one_neurons = [\n",
    "    (8,),\n",
    "    (16,),\n",
    "    (32,),\n",
    "    (64,),\n",
    "    (128,),\n",
    "    (256,)\n",
    "]\n",
    "nn_one_accuracies = []\n",
    "\n",
    "for n in nn_one_neurons:\n",
    "    nn_accuracies = cross_validate(n)\n",
    "    nn_mean_accuracy = np.mean(nn_accuracies)\n",
    "    nn_one_accuracies.append(nn_mean_accuracy)\n",
    "\n",
    "plt.figure(figsize=(8,4))\n",
    "plt.title(\"Mean Accuracy vs. Neurons In Single Hidden Layer\")\n",
    "\n",
    "x = [i[0] for i in nn_one_neurons]\n",
    "plt.plot(x, nn_one_accuracies)"
   ]
  },
  {
   "cell_type": "markdown",
   "metadata": {},
   "source": [
    "### Results of Increasing Number of Neurons in a Single Layer:\n",
    "It looks like adding more neurons to the single hidden layer helped massively. It improved simple accuracy from approximately **89% to approximately 96%.** Simple accuracy computes the number of correct classifications the model made, but doesn't tell us anything about false or true positives or false or true negatives.\n",
    "\n",
    "Given that k-nearest neighbors achieved approximately **96%** accuracy, there may not be any advantage to using a single hidden layer neural network for this problem."
   ]
  },
  {
   "cell_type": "markdown",
   "metadata": {},
   "source": [
    "# Neural Network Model - Two Hidden Layers\n",
    "\n",
    "Now I will make a model with multiple layers, and increasing number of neurons."
   ]
  },
  {
   "cell_type": "code",
   "execution_count": 13,
   "metadata": {},
   "outputs": [
    {
     "data": {
      "text/plain": [
       "[<matplotlib.lines.Line2D at 0x1d2f914d400>]"
      ]
     },
     "execution_count": 13,
     "metadata": {},
     "output_type": "execute_result"
    },
    {
     "data": {
      "image/png": "[encoded data removed]",
      "text/plain": [
       "<Figure size 576x288 with 1 Axes>"
      ]
     },
     "metadata": {
      "needs_background": "light"
     },
     "output_type": "display_data"
    }
   ],
   "source": [
    "nn_two_neurons = [\n",
    "    (64,64),\n",
    "    (128,128),\n",
    "    (256,256)\n",
    "]\n",
    "nn_two_accuracies = []\n",
    "\n",
    "for n in nn_two_neurons:\n",
    "    nn_accuracies = cross_validate(n)\n",
    "    nn_mean_accuracy = np.mean(nn_accuracies)\n",
    "    nn_two_accuracies.append(nn_mean_accuracy)\n",
    "\n",
    "plt.figure(figsize=(8,4))\n",
    "plt.title(\"Mean Accuracy vs. Neurons In Two Hidden Layers\")\n",
    "\n",
    "x = [i[0] for i in nn_two_neurons]\n",
    "plt.plot(x, nn_two_accuracies)"
   ]
  },
  {
   "cell_type": "code",
   "execution_count": 14,
   "metadata": {},
   "outputs": [
    {
     "data": {
      "text/plain": [
       "[0.9471306607275426, 0.9549232863152686, 0.9549183370452858]"
      ]
     },
     "execution_count": 14,
     "metadata": {},
     "output_type": "execute_result"
    }
   ],
   "source": [
    "nn_two_accuracies"
   ]
  },
  {
   "cell_type": "markdown",
   "metadata": {},
   "source": [
    "### Results of Increasing Number of Neurons in a model with Two Layers\n",
    "Using 2 hidden layers improved our simple accuracy to 95%. While I'd be worried about overfitting, using 4-fold cross validation also gives me a bit more assurance that the model is generalizing to achieve the extra 1% in simple accuracy over the single hidden layer networks we tried earlier."
   ]
  },
  {
   "cell_type": "markdown",
   "metadata": {},
   "source": [
    "# Neural Network with 3 Hidden Layers\n",
    "Using more hidden layers is known to increase the amount of overfitting that happens. To help us prevent overfitting, let's increase the number of folds we use for k-fold cross validation to 6 while testing networks with 3 hidden layers"
   ]
  },
  {
   "cell_type": "code",
   "execution_count": 15,
   "metadata": {},
   "outputs": [],
   "source": [
    "from sklearn.neural_network import MLPClassifier\n",
    "from sklearn.model_selection import KFold\n",
    "\n",
    "# 50% Train / test validation\n",
    "@ignore_warnings(category=ConvergenceWarning)\n",
    "def train_nn(n, train_features, train_labels):\n",
    "    nn = MLPClassifier(hidden_layer_sizes=n,activation='relu')\n",
    "    nn.fit(train_features, train_labels.values.ravel())\n",
    "    return nn\n",
    "\n",
    "@ignore_warnings(category=ConvergenceWarning)\n",
    "def test(model, test_features, test_labels):\n",
    "    predictions = model.predict(test_features)\n",
    "    train_test_df = pd.DataFrame()\n",
    "    train_test_df['correct_label'] = test_labels\n",
    "    train_test_df['predicted_label'] = predictions\n",
    "    overall_accuracy = sum(train_test_df[\"predicted_label\"] == train_test_df[\"correct_label\"])/len(train_test_df)    \n",
    "    return overall_accuracy\n",
    "\n",
    "@ignore_warnings(category=ConvergenceWarning)\n",
    "def cross_validate_six(n):\n",
    "    fold_accuracies = []\n",
    "    kf = KFold(n_splits = 6, random_state=2)\n",
    "    for train_index, test_index in kf.split(features):\n",
    "        train_features = features.loc[train_index]\n",
    "        test_features = features.loc[test_index]\n",
    "        train_labels = labels.loc[train_index]\n",
    "        test_labels = labels.loc[test_index].values.ravel()\n",
    "        \n",
    "        model = train_nn(n, train_features, train_labels)\n",
    "        \n",
    "        overall_accuracy = test(model, test_features, test_labels)\n",
    "        \n",
    "        fold_accuracies.append(overall_accuracy)\n",
    "    \n",
    "    return fold_accuracies\n"
   ]
  },
  {
   "cell_type": "code",
   "execution_count": 16,
   "metadata": {},
   "outputs": [
    {
     "data": {
      "text/plain": [
       "[<matplotlib.lines.Line2D at 0x1d2f9b51630>]"
      ]
     },
     "execution_count": 16,
     "metadata": {},
     "output_type": "execute_result"
    },
    {
     "data": {
      "image/png": "[encoded data removed]",
      "text/plain": [
       "<Figure size 576x288 with 1 Axes>"
      ]
     },
     "metadata": {
      "needs_background": "light"
     },
     "output_type": "display_data"
    }
   ],
   "source": [
    "nn_three_neurons = [\n",
    "    (10, 10, 10),\n",
    "    (64, 64, 64),\n",
    "    (128, 128, 128)\n",
    "]\n",
    "\n",
    "nn_three_accuracies = []\n",
    "\n",
    "for n in nn_three_neurons:\n",
    "    nn_accuracies = cross_validate_six(n)\n",
    "    nn_mean_accuracy = np.mean(nn_accuracies)\n",
    "    nn_three_accuracies.append(nn_mean_accuracy)\n",
    "\n",
    "plt.figure(figsize=(8,4))\n",
    "plt.title(\"Mean Accuracy vs. Neurons In Three Hidden Layers\")\n",
    "\n",
    "x = [i[0] for i in nn_three_neurons]\n",
    "plt.plot(x, nn_three_accuracies)"
   ]
  },
  {
   "cell_type": "code",
   "execution_count": 17,
   "metadata": {},
   "outputs": [
    {
     "data": {
      "text/plain": [
       "[0.8903883314752882, 0.9482590115198809, 0.9543664065403196]"
      ]
     },
     "execution_count": 17,
     "metadata": {},
     "output_type": "execute_result"
    }
   ],
   "source": [
    "nn_three_accuracies"
   ]
  },
  {
   "cell_type": "markdown",
   "metadata": {},
   "source": [
    "### Results of Increasing Number of Neurons in a model with Three Layers\n",
    "Using 3 hidden layers improved our simple accuracy to 96%, even with 6-fold cross validation. This seems to be in line with the research literature out there about deep neural networks for computer vision. Having more layers and more neurons tends to improve the network's performance. However, it does seem that compared to a simple K nearest neighbors model, the relative improvements were minimal."
   ]
  },
  {
   "cell_type": "markdown",
   "metadata": {},
   "source": [
    "# Final Thoughts on Building a Handwritten Digit Classifier \n",
    "\n",
    "### Results of the different models"
   ]
  },
  {
   "cell_type": "code",
   "execution_count": 24,
   "metadata": {},
   "outputs": [
    {
     "data": {
      "text/plain": [
       "0.9677233358079684"
      ]
     },
     "execution_count": 24,
     "metadata": {},
     "output_type": "execute_result"
    }
   ],
   "source": [
    "np.mean(knn_one_accuracies)"
   ]
  },
  {
   "cell_type": "code",
   "execution_count": 21,
   "metadata": {},
   "outputs": [
    {
     "data": {
      "text/plain": [
       "0.9197715087024664"
      ]
     },
     "execution_count": 21,
     "metadata": {},
     "output_type": "execute_result"
    }
   ],
   "source": [
    "np.mean(nn_one_accuracies)"
   ]
  },
  {
   "cell_type": "code",
   "execution_count": 22,
   "metadata": {},
   "outputs": [
    {
     "data": {
      "text/plain": [
       "0.9523240946960323"
      ]
     },
     "execution_count": 22,
     "metadata": {},
     "output_type": "execute_result"
    }
   ],
   "source": [
    "np.mean(nn_two_accuracies)"
   ]
  },
  {
   "cell_type": "code",
   "execution_count": 23,
   "metadata": {},
   "outputs": [
    {
     "data": {
      "text/plain": [
       "0.9310045831784962"
      ]
     },
     "execution_count": 23,
     "metadata": {},
     "output_type": "execute_result"
    }
   ],
   "source": [
    "np.mean(nn_three_accuracies)"
   ]
  },
  {
   "cell_type": "markdown",
   "metadata": {},
   "source": [
    "\n",
    "|       Model Type      \t| Mean Accuracy \t|\n",
    "|:---------------------:\t|:-------------:\t|\n",
    "|  K Nearest Neighbors  \t|     0.9677    \t|\n",
    "|  Neural Net (1 Layer) \t|     0.9198    \t|\n",
    "| Neural Net (2 Layers) \t|     0.9523    \t|\n",
    "| Neural Net (3 Layers  \t|     0.9310    \t|\n",
    "\n",
    "### Effectiveness of Different Models and Approach\n",
    "In the end I was able to use scikit-learn to make several machine learning models that were able to classify handwritten digits with greater than 90% accuracy.\n",
    "\n",
    "The neural network models achieved accuracy within 2% of the K nearest neighbors model."
   ]
  },
  {
   "cell_type": "markdown",
   "metadata": {},
   "source": [
    "#### [LinkedIn](https://www.linkedin.com/in/danielrichardtorres/) | [GitHub](https://github.com/danielrichardtorres) | [Back to Portfolio](https://danieltorres.tech)\n",
    "Dataquest Guided Project by Daniel Torres "
   ]
  }
 ],
 "metadata": {
  "anaconda-cloud": {},
  "kernelspec": {
   "display_name": "Python 3",
   "language": "python",
   "name": "python3"
  },
  "language_info": {
   "codemirror_mode": {
    "name": "ipython",
    "version": 3
   },
   "file_extension": ".py",
   "mimetype": "text/x-python",
   "name": "python",
   "nbconvert_exporter": "python",
   "pygments_lexer": "ipython3",
   "version": "3.7.3"
  }
 },
 "nbformat": 4,
 "nbformat_minor": 2
}
